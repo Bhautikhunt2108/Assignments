{
 "cells": [
  {
   "cell_type": "code",
   "execution_count": null,
   "id": "3b876f96",
   "metadata": {},
   "outputs": [],
   "source": []
  },
  {
   "cell_type": "code",
   "execution_count": null,
   "id": "f2e2222c",
   "metadata": {},
   "outputs": [],
   "source": [
    "#1st question\n",
    "\n",
    "n = int(input(\"Input a number: \"))\n",
    "if n>=0:\n",
    "    Sum = (n * (n + 1)) / 2\n",
    "    print(\"Sum of the first\", n ,\"positive integers:\", Sum)\n",
    "else: \n",
    "    print(\"number is negative\")"
   ]
  },
  {
   "cell_type": "code",
   "execution_count": 13,
   "id": "738de898",
   "metadata": {},
   "outputs": [
    {
     "name": "stdout",
     "output_type": "stream",
     "text": [
      "enter word you want to find: fine\n",
      "2\n"
     ]
    }
   ],
   "source": [
    "#2&3rd question\n",
    "\n",
    "a=\"hi, how are you. I m fine. How r u? I m fine too\"\n",
    "b=input(\"enter word you want to find: \")\n",
    "if b in a:\n",
    "    print(a.count(b))\n",
    "else:\n",
    "    print(\"sorry, word is not available\")"
   ]
  },
  {
   "cell_type": "code",
   "execution_count": 28,
   "id": "4b99d33c",
   "metadata": {},
   "outputs": [
    {
     "name": "stdout",
     "output_type": "stream",
     "text": [
      "enter first string: kanubhai\n",
      "enter 2nd string: geetaben\n",
      "genubhai kaetaben\n"
     ]
    }
   ],
   "source": [
    "#4th question\n",
    "\n",
    "a=input(\"enter first string: \")\n",
    "b=input(\"enter 2nd string: \")\n",
    "c=a.replace(a[0:2],b[0:2])\n",
    "d=b.replace(b[0:2],a[0:2])\n",
    "print(c,d)"
   ]
  },
  {
   "cell_type": "code",
   "execution_count": 13,
   "id": "a34c767b",
   "metadata": {},
   "outputs": [
    {
     "name": "stdout",
     "output_type": "stream",
     "text": [
      "enter a word:5\n",
      "Enter number of elements6\n",
      "[5]\n"
     ]
    }
   ],
   "source": [
    "a= int(input(\"enter a number:\"))\n",
    "n= int(input(\"Enter number of entries\"))\n",
    "for i in range(n) and n<a,:\n",
    "    print ([a])\n"
   ]
  }
 ],
 "metadata": {
  "kernelspec": {
   "display_name": "Python 3 (ipykernel)",
   "language": "python",
   "name": "python3"
  },
  "language_info": {
   "codemirror_mode": {
    "name": "ipython",
    "version": 3
   },
   "file_extension": ".py",
   "mimetype": "text/x-python",
   "name": "python",
   "nbconvert_exporter": "python",
   "pygments_lexer": "ipython3",
   "version": "3.9.12"
  }
 },
 "nbformat": 4,
 "nbformat_minor": 5
}
