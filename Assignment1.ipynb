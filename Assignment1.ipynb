{
 "cells": [
  {
   "cell_type": "code",
   "execution_count": null,
   "id": "3b876f96",
   "metadata": {},
   "outputs": [],
   "source": []
  },
  {
   "cell_type": "code",
   "execution_count": null,
   "id": "f2e2222c",
   "metadata": {},
   "outputs": [],
   "source": [
    "#1st question\n",
    "\n",
    "n = int(input(\"Input a number: \"))\n",
    "if n>=0:\n",
    "    Sum = (n * (n + 1)) / 2\n",
    "    print(\"Sum of the first\", n ,\"positive integers:\", Sum)\n",
    "else: \n",
    "    print(\"number is negative\")"
   ]
  },
  {
   "cell_type": "code",
   "execution_count": null,
   "id": "738de898",
   "metadata": {},
   "outputs": [],
   "source": [
    "#2&3rd question\n",
    "\n",
    "a=\"hi, how are you. I m fine. How r u? I m fine too\"\n",
    "b=input(\"enter word you want to find: \")\n",
    "if b in a:\n",
    "    print(a.count(b))\n",
    "else:\n",
    "    print(\"sorry, word is not available\")"
   ]
  },
  {
   "cell_type": "code",
   "execution_count": null,
   "id": "4b99d33c",
   "metadata": {},
   "outputs": [],
   "source": [
    "#4th question\n",
    "\n",
    "a=input(\"enter first string: \")\n",
    "b=input(\"enter 2nd string: \")\n",
    "c=a.replace(a[0:2],b[0:2])\n",
    "d=b.replace(b[0:2],a[0:2])\n",
    "print(c,d)"
   ]
  },
  {
   "cell_type": "code",
   "execution_count": null,
   "id": "a34c767b",
   "metadata": {},
   "outputs": [],
   "source": [
    "#5th question\n",
    "a=input(\"enter a word you want to add ing to it:\")\n",
    "b= \"ing\"\n",
    "mytupple=(a,b)\n",
    "print(\"\".join(mytupple))"
   ]
  },
  {
   "cell_type": "code",
   "execution_count": null,
   "id": "b7cdb08e",
   "metadata": {},
   "outputs": [],
   "source": [
    "#6th question\n",
    "a=input(\"Entre a line: \")\n",
    "b=a.lower()\n",
    "c=b.find(\"not\")\n",
    "d=b.find(\"poor\")\n",
    "e=\"good\"\n",
    "if c<d:\n",
    "    f=b.replace(b[c:d+4],\"good\")\n",
    "    print(f)"
   ]
  },
  {
   "cell_type": "code",
   "execution_count": null,
   "id": "774b79bd",
   "metadata": {},
   "outputs": [],
   "source": [
    "#7th questions\n",
    "x=int(input(\"enter a number= \"))\n",
    "y=int(input(\"enter 2nd number= \"))\n",
    "\n",
    "def gcd(x, y):\n",
    "    if(y == 0):\n",
    "        return x\n",
    "    else:\n",
    "        return gcd(y, x%y)\n",
    "    \n",
    "print(\"The gcd of x and y is : \",end=\"\" )\n",
    "print(gcd(x,y))"
   ]
  },
  {
   "cell_type": "code",
   "execution_count": null,
   "id": "bc0184c9",
   "metadata": {},
   "outputs": [],
   "source": [
    "#que 8\n",
    "L1=[1,8,\"bhautik\", (25,28), [38,25,\"khunt\"],(25,28)]\n",
    "for x in L1:\n",
    "    if type(x)==type(L1):\n",
    "        print(\"yes it contains list\")\n",
    "        print(x)\n",
    "    "
   ]
  },
  {
   "cell_type": "code",
   "execution_count": null,
   "id": "c2245466",
   "metadata": {},
   "outputs": [],
   "source": [
    "#que 9\n",
    "L1 = [] \n",
    "n = int(input(\"Enter the number of elements: \"))\n",
    "for i in range(0, n): \n",
    "    el = int(input(\"Enter the elements: \")) \n",
    "    L1.append(el) \n",
    "L1.sort() \n",
    "\n",
    "print(\"The sorted list: \", L1) \n",
    "print(\"The second smallest value of this list: \",L1[1])"
   ]
  },
  {
   "cell_type": "code",
   "execution_count": null,
   "id": "e9e14963",
   "metadata": {},
   "outputs": [],
   "source": [
    "\n",
    "#que 10 Write a Python program to get unique values from a list.\n",
    "\n",
    "l1=[]\n",
    "n=int(input(\"enter the number of elements\"))\n",
    "\n",
    "for i in range (0,n):\n",
    "    val=(input(\"enter element\"))\n",
    "    l1.append(val)\n",
    "\n",
    "import random\n",
    "print(random.choice(l1))"
   ]
  },
  {
   "cell_type": "code",
   "execution_count": null,
   "id": "e541a939",
   "metadata": {},
   "outputs": [],
   "source": [
    "#que 11 Write a Python program to unzip a list of tuples into individual lists.\n",
    "\n",
    "test_list = [('a', 1), ('B', 2), ('c', 3), ('d', 4)]\n",
    "print(\"Original list is : \" + str(test_list))\n",
    "res = list(zip(*test_list))\n",
    "print(\"Modified list is : \" + str(res))"
   ]
  },
  {
   "cell_type": "code",
   "execution_count": null,
   "id": "a87622d8",
   "metadata": {},
   "outputs": [],
   "source": [
    "#que 12 Write a Python program to convert a list of tuples into a dictionary\n",
    "\n",
    "def Convert(T, D):\n",
    "    for a, b in T:\n",
    "        D.setdefault(a, []).append(b)\n",
    "    return D\n",
    "     \n",
    "\n",
    "tups = [(\"akash\", 10), (\"gaurav\", 12), (\"anand\", 14),\n",
    "     (\"suraj\", 20), (\"akhil\", 25), (\"ashish\", 30)]\n",
    "dictionary = {}\n",
    "print (Convert(tups, dictionary))"
   ]
  },
  {
   "cell_type": "code",
   "execution_count": null,
   "id": "1731481d",
   "metadata": {},
   "outputs": [],
   "source": [
    "#13. Write a Python program to sort a dictionary (ascending /descending) by value.\n",
    "\n",
    "Dict = {'c': 3,\n",
    "           'a': 1,\n",
    "           'd': 4,\n",
    "           'b': 2}\n",
    " \n",
    "sorteddict = sorted([(value, key)\n",
    " for (key, value) in Dict.items()])\n",
    " \n",
    "print(\"Sorted dictionary is :\")\n",
    "print(sorteddict)"
   ]
  },
  {
   "cell_type": "code",
   "execution_count": null,
   "id": "44d6861f",
   "metadata": {},
   "outputs": [],
   "source": [
    "#14 Write a Python program to find the highest 3 values in a dictionary.\n",
    "\n",
    "from collections import Counter\n",
    "mydict = {'a': 3, 'c': 4, 'd': 6, 'j': 5, 'q': 2}\n",
    "k = Counter(mydict)\n",
    "high = k.most_common(3)\n",
    "print(\"Dictionary with 3 highest values:\")\n",
    "print(\"Keys: Values\")\n",
    "for i in high:\n",
    "   print(i[0],\" :\",i[1],\" \")"
   ]
  },
  {
   "cell_type": "code",
   "execution_count": null,
   "id": "1b19a800",
   "metadata": {},
   "outputs": [],
   "source": [
    "#15 \n",
    "i= int(input(\"enter a number\"))\n",
    "def Fibonacci(n):\n",
    "    if n<= 0:\n",
    "        print(\"Incorrect input\")\n",
    "    elif n == 1:\n",
    "        return 0\n",
    "    elif n == 2:\n",
    "        return 1\n",
    "    else:\n",
    "        return Fibonacci(n-1)+Fibonacci(n-2)\n",
    " \n",
    "print(Fibonacci(i))\n",
    " "
   ]
  },
  {
   "cell_type": "code",
   "execution_count": null,
   "id": "75f80602",
   "metadata": {},
   "outputs": [],
   "source": [
    "#16 Counting the frequencies in a list using a dictionary in Python.\n",
    "\n",
    "def Frequencycount(list):\n",
    " \n",
    "    freq = {}\n",
    "    for i in list:\n",
    "        if (i in freq):\n",
    "            freq[i] += 1\n",
    "        else:\n",
    "            freq[i] = 1\n",
    " \n",
    "    for key, value in freq.items():\n",
    "        print (\"% d : % d\"%(key, value))\n",
    " \n",
    "if __name__ == \"__main__\":\n",
    "    list =[1, 1, 1, 5, 5, 3, 1, 3, 3, 1,4, 4, 4, 2, 2, 2, 2]\n",
    " \n",
    "    Frequencycount(list)"
   ]
  },
  {
   "cell_type": "code",
   "execution_count": null,
   "id": "cf99c5c1",
   "metadata": {},
   "outputs": [],
   "source": [
    "#17 Write a python program using function to find the sum of odd series and even series\n",
    "\n",
    "n = int(input(\" Please Enter the Maximum Value : \"))\n",
    "Oddsum = 0\n",
    " \n",
    "for num in range(1, n+1):\n",
    "    if(num % 2 != 0):\n",
    "        print(\"{0}\".format(num))\n",
    "        Oddsum = Oddsum + num\n",
    " \n",
    "print(\"The Sum of Odd Numbers from 1 to {0} = {1}\".format(num, Oddsum)) \n"
   ]
  },
  {
   "cell_type": "code",
   "execution_count": null,
   "id": "3b3ef3fd",
   "metadata": {},
   "outputs": [],
   "source": [
    "#17 Write a python program using function to find the sum of odd series and even series\n",
    "\n",
    "n = int(input(\" Please Enter the Maximum Value : \"))\n",
    "evensum = 0\n",
    " \n",
    "for num in range(1, n+1):\n",
    "    if(num % 2 == 0):\n",
    "        print(\"{0}\".format(num))\n",
    "        evensum = Oddsum + num\n",
    " \n",
    "print(\"The Sum of even Numbers from 1 to {0} = {1}\".format(num, evensum)) "
   ]
  },
  {
   "cell_type": "code",
   "execution_count": null,
   "id": "d14ce517",
   "metadata": {},
   "outputs": [],
   "source": [
    "#18  Python Program to Find Factorial of Number Using Recursion\n",
    "n= int(input(\"Enter a number to find factorial\"))\n",
    "\n",
    "def factorial(n):\n",
    "    if (n==1 or n==0):\n",
    "        return 1\n",
    "    else:\n",
    "\n",
    "        return (n * factorial(n - 1))\n",
    "    \n",
    "factorial((n))\n"
   ]
  },
  {
   "cell_type": "code",
   "execution_count": null,
   "id": "c6ecb967",
   "metadata": {},
   "outputs": [],
   "source": [
    "#19 Write a Python function that takes a list and returns a new list with unique elements of the first list.\n",
    "\n",
    "from collections import Counter\n",
    " \n",
    "def unique(list1):\n",
    "    print(*Counter(list1))\n",
    "list1 = [10, 20, 10, 30, 40, 40]\n",
    "print(\"the unique values from 1st list is\")\n",
    "unique(list1)\n",
    "\n",
    "list2 = [1, 2, 1, 1, 3, 4, 3, 3, 5]\n",
    "print(\"\\nthe unique values from 2nd list is\")\n",
    "unique(list2)"
   ]
  },
  {
   "cell_type": "code",
   "execution_count": null,
   "id": "fe735ed8",
   "metadata": {},
   "outputs": [],
   "source": [
    "#20\n",
    "\n",
    "import string\n",
    "import random\n",
    "\n",
    "length = int(input(\"Enter password length gretaer than 8: \"))\n",
    "\n",
    "if length>=8:\n",
    "    print('''Choose character set for password from these :\n",
    "         1. Digits\n",
    "         2. Letters\n",
    "         3. Special characters\n",
    "         4. Exit''')\n",
    "    characterList = \"\"\n",
    "    while(True):\n",
    "                choice = int(input(\"Pick a number \"))\n",
    "                if(choice == 1):\n",
    "                    characterList += string.ascii_letters\n",
    "                elif(choice == 2):\n",
    "                    characterList += string.digits\n",
    "                elif(choice == 3):\n",
    "                    characterList += string.punctuation\n",
    "                elif(choice == 4):\n",
    "                    break\n",
    "                else:\n",
    "                    print(\"Please pick a valid option!\")\n",
    "\n",
    "    password = []\n",
    "\n",
    "    for i in range(length):\n",
    "            randomchar = random.choice(characterList)\n",
    "            password.append(randomchar)\n",
    "            a=print(\"The random password is \" + \"\".join(password))\n",
    "        \n",
    "else:\n",
    "        print(\"Enter value greater than 8\")\n",
    "        "
   ]
  },
  {
   "cell_type": "code",
   "execution_count": null,
   "id": "c732049a",
   "metadata": {},
   "outputs": [],
   "source": []
  },
  {
   "cell_type": "code",
   "execution_count": null,
   "id": "c4fe528e",
   "metadata": {},
   "outputs": [],
   "source": []
  }
 ],
 "metadata": {
  "kernelspec": {
   "display_name": "Python 3 (ipykernel)",
   "language": "python",
   "name": "python3"
  },
  "language_info": {
   "codemirror_mode": {
    "name": "ipython",
    "version": 3
   },
   "file_extension": ".py",
   "mimetype": "text/x-python",
   "name": "python",
   "nbconvert_exporter": "python",
   "pygments_lexer": "ipython3",
   "version": "3.9.12"
  },
  "vscode": {
   "interpreter": {
    "hash": "f8f19a7f2ba66dac1372ae366423cbfa5f4c54827d2f11ee45721fbd00ac1a04"
   }
  }
 },
 "nbformat": 4,
 "nbformat_minor": 5
}
