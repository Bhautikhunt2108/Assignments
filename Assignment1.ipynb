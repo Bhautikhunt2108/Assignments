{
 "cells": [
  {
   "cell_type": "code",
   "execution_count": null,
   "id": "3b876f96",
   "metadata": {},
   "outputs": [],
   "source": []
  },
  {
   "cell_type": "code",
   "execution_count": null,
   "id": "f2e2222c",
   "metadata": {},
   "outputs": [],
   "source": [
    "#1st question\n",
    "\n",
    "n = int(input(\"Input a number: \"))\n",
    "if n>=0:\n",
    "    Sum = (n * (n + 1)) / 2\n",
    "    print(\"Sum of the first\", n ,\"positive integers:\", Sum)\n",
    "else: \n",
    "    print(\"number is negative\")"
   ]
  },
  {
   "cell_type": "code",
   "execution_count": null,
   "id": "738de898",
   "metadata": {},
   "outputs": [],
   "source": [
    "#2&3rd question\n",
    "\n",
    "a=\"hi, how are you. I m fine. How r u? I m fine too\"\n",
    "b=input(\"enter word you want to find: \")\n",
    "if b in a:\n",
    "    print(a.count(b))\n",
    "else:\n",
    "    print(\"sorry, word is not available\")"
   ]
  },
  {
   "cell_type": "code",
   "execution_count": null,
   "id": "4b99d33c",
   "metadata": {
    "scrolled": true
   },
   "outputs": [],
   "source": [
    "#4th question\n",
    "\n",
    "a=input(\"enter first string: \")\n",
    "b=input(\"enter 2nd string: \")\n",
    "c=a.replace(a[0:2],b[0:2])\n",
    "d=b.replace(b[0:2],a[0:2])\n",
    "print(c,d)"
   ]
  },
  {
   "cell_type": "code",
   "execution_count": null,
   "id": "a34c767b",
   "metadata": {},
   "outputs": [],
   "source": [
    "#5th question\n",
    "a=input(\"enter a word you want to add ing to it:\")\n",
    "b= \"ing\"\n",
    "mytupple=(a,b)\n",
    "print(\"\".join(mytupple))"
   ]
  },
  {
   "cell_type": "code",
   "execution_count": null,
   "id": "0b18fcd0",
   "metadata": {},
   "outputs": [],
   "source": [
    "#6th question\n",
    "a=input(\"Entre a line: \")\n",
    "b=a.lower()\n",
    "c=b.find(\"not\")\n",
    "d=b.find(\"poor\")\n",
    "e=\"good\"\n",
    "if c<d:\n",
    "    f=b.replace(b[c:d+4],\"good\")\n",
    "    print(f)"
   ]
  },
  {
   "cell_type": "code",
   "execution_count": null,
   "id": "da73aeee",
   "metadata": {},
   "outputs": [],
   "source": [
    "#7th questions\n",
    "x=int(input(\"enter a number= \"))\n",
    "y=int(input(\"enter 2nd number= \"))\n",
    "\n",
    "def gcd(x, y):\n",
    "    if(y == 0):\n",
    "        return x\n",
    "    else:\n",
    "        return gcd(y, x%y)\n",
    "    \n",
    "print(\"The gcd of x and y is : \",end=\"\" )\n",
    "print(gcd(x,y))\n"
   ]
  },
  {
   "cell_type": "code",
   "execution_count": null,
   "id": "9afeda2b",
   "metadata": {},
   "outputs": [],
   "source": [
    "#que 8\n",
    "L1=[1,8,\"bhautik\", (25,28), [38,25,\"khunt\"],(25,28)]\n",
    "for x in L1:\n",
    "    if type(x)==type(L1):\n",
    "        print(\"yes it contains list\")\n",
    "        print(x)\n",
    "    "
   ]
  },
  {
   "cell_type": "code",
   "execution_count": null,
   "id": "1a070cba",
   "metadata": {},
   "outputs": [],
   "source": [
    "#que 9\n",
    "L1 = [] \n",
    "n = int(input(\"Enter the number of elements: \"))\n",
    "for i in range(0, n): \n",
    "    el = int(input(\"Enter the elements: \")) \n",
    "    L1.append(el) \n",
    "L1.sort() \n",
    "\n",
    "print(\"The sorted list: \", L1) \n",
    "print(\"The second smallest value of this list: \",L1[1])"
   ]
  },
  {
   "cell_type": "code",
   "execution_count": null,
   "id": "0e810794",
   "metadata": {},
   "outputs": [],
   "source": [
    "#que 10 Write a Python program to get unique values from a list.\n",
    "\n",
    "l1=[]\n",
    "n=int(input(\"enter the number of elements\"))\n",
    "\n",
    "for i in range (0,n):\n",
    "    val=(input(\"enter element\"))\n",
    "    l1.append(val)\n",
    "\n",
    "import random\n",
    "print(random.choice(l1))\n"
   ]
  },
  {
   "cell_type": "code",
   "execution_count": null,
   "id": "da3e4d25",
   "metadata": {},
   "outputs": [],
   "source": [
    "#que 11 Write a Python program to unzip a list of tuples into individual lists.\n",
    "\n"
   ]
  },
  {
   "cell_type": "code",
   "execution_count": null,
   "id": "d6922353",
   "metadata": {},
   "outputs": [],
   "source": [
    "#que 12 Write a Python program to convert a list of tuples into a dictionary\n",
    "\n",
    "L1= []\n",
    "n= int(input(\"enter number of elements: \"))\n",
    "\n",
    "for i in range (0,n):\n",
    "    tup1=input(\"enter a tupple: \")\n",
    "    L1.append(tup1)\n",
    "\n",
    "print (L1)\n",
    "\n",
    "tup1= tuple(L1)\n",
    "print(tup1)"
   ]
  },
  {
   "cell_type": "code",
   "execution_count": null,
   "id": "42b6a2de",
   "metadata": {},
   "outputs": [],
   "source": [
    "#13. Write a Python program to sort a dictionary (ascending /descending) by value.\n",
    "\n",
    "D1={}\n",
    "n=int(input(\"number of entry: \"))\n",
    "for i in range (0,n):\n",
    "    Del=input(\"enter dictionary keys& values: \")\n",
    "    D1.update(Del)\n",
    "    \n",
    "print(D1)"
   ]
  }
 ],
 "metadata": {
  "kernelspec": {
   "display_name": "Python 3 (ipykernel)",
   "language": "python",
   "name": "python3"
  },
  "language_info": {
   "codemirror_mode": {
    "name": "ipython",
    "version": 3
   },
   "file_extension": ".py",
   "mimetype": "text/x-python",
   "name": "python",
   "nbconvert_exporter": "python",
   "pygments_lexer": "ipython3",
   "version": "3.9.12"
  }
 },
 "nbformat": 4,
 "nbformat_minor": 5
}
